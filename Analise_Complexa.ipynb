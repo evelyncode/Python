{
 "cells": [
  {
   "cell_type": "code",
   "execution_count": 41,
   "metadata": {},
   "outputs": [],
   "source": [
    "import tweepy\n",
    "import pandas as pd     \n",
    "import numpy as np \n",
    "import time\n",
    "import os\n",
    "import re\n",
    "\n",
    "# Plotting and Visualization\n",
    "from IPython.display import display\n",
    "import matplotlib.pyplot as plt\n",
    "import seaborn as sns\n",
    "from wordcloud import WordCloud, ImageColorGenerator, STOPWORDS\n",
    "%matplotlib inline\n",
    "\n",
    "# TextBlob Imports\n",
    "from textblob import TextBlob\n",
    "from textblob import TextBlob\n",
    "from textblob.classifiers import NaiveBayesClassifier\n",
    "\n",
    "# NLTK Imports\n",
    "import nltk\n",
    "from sklearn.feature_extraction.text import CountVectorizer\n",
    "from sklearn.naive_bayes import MultinomialNB\n",
    "\n",
    "#MAP\n",
    "from geopy.geocoders import Nominatim\n",
    "import folium\n",
    "from folium import plugins\n",
    "from geopy.geocoders import Nominatim"
   ]
  },
  {
   "cell_type": "code",
   "execution_count": 42,
   "metadata": {},
   "outputs": [
    {
     "data": {
      "text/plain": [
       "'C:\\\\Users\\\\Evelyn\\\\Desktop\\\\Python DSA\\\\PythonFundamentos-master\\\\Cap06\\\\Notebooks'"
      ]
     },
     "execution_count": 42,
     "metadata": {},
     "output_type": "execute_result"
    }
   ],
   "source": [
    "pwd"
   ]
  },
  {
   "cell_type": "code",
   "execution_count": 43,
   "metadata": {},
   "outputs": [],
   "source": [
    "consumer_key = '12JU4yJtpxxFUswtBZlKCqHii'\n",
    "consumer_secret = 'z7rRVqEgDn2CNTJ6kfaMK2YnYmzklFpEvlHqiXSd6EPMyKvKyY'\n",
    "access_token = '1259747609591402496-8g7bONY1wNHdeKmIb7VdVKtxyO4WJ0'\n",
    "access_token_secret = 'N5TFkIw8Cy4hIdvqsQ2LD3DS0HBl7Xg1LTJ5TEqHvLuoU'"
   ]
  },
  {
   "cell_type": "code",
   "execution_count": 44,
   "metadata": {},
   "outputs": [],
   "source": [
    "\n",
    "#Autentication Methods\n",
    "auth = tweepy.OAuthHandler(consumer_key,consumer_secret)\n",
    "auth.set_access_token(access_token,access_token_secret)\n",
    "api = tweepy.API(auth)"
   ]
  },
  {
   "cell_type": "code",
   "execution_count": 45,
   "metadata": {},
   "outputs": [],
   "source": [
    "#Searchin Twitter Timelines\n",
    "tweets = []\n",
    "info = []\n",
    "\n",
    "for tweet in tweepy.Cursor(api.search,\n",
    "                           q=\"comercio shopping\",\n",
    "                           tweet_mode='extended',\n",
    "                           rpp=100,\n",
    "                           result_type=\"popular\",\n",
    "                           include_entities=True,\n",
    "                           lang=\"pt\").items(1500):\n",
    "    if 'retweeted_status' in dir(tweet):\n",
    "        aux=tweet.retweeted_status.full_text\n",
    "    else:\n",
    "        aux=tweet.full_text\n",
    "        \n",
    "    newtweet = aux.replace(\"\\n\", \" \")\n",
    "   \n",
    "    tweets.append(newtweet)\n",
    "    info.append(tweet)\n",
    "    \n",
    "    file = open(\"shopping.txt\", \"a\", -1, \"utf-8\")\n",
    "    file.write(newtweet+'\\n')\n",
    "    file.close()\n",
    "    \n",
    "    time.sleep(150)"
   ]
  },
  {
   "cell_type": "code",
   "execution_count": 38,
   "metadata": {},
   "outputs": [],
   "source": [
    "#Construction of the dataframe\n",
    "tweets_df = pd.DataFrame(tweets, columns=['Tweets']) \n",
    "\n",
    "tweets_df['len']  = np.array([len(tweet) for tweet in tweets])\n",
    "tweets_df['ID']   = np.array([tweet.id for tweet in info])\n",
    "tweets_df['Date'] = np.array([tweet.created_at for tweet in info])\n",
    "tweets_df['Source'] = np.array([tweet.source for tweet in info])\n",
    "tweets_df['Likes']  = np.array([tweet.favorite_count for tweet in info])\n",
    "tweets_df['RTs']    = np.array([tweet.retweet_count for tweet in info])\n",
    "tweets_df['User Location']    = np.array([tweet.user.location for tweet in info])\n",
    "tweets_df['Geo']    = np.array([tweet.geo for tweet in info])\n",
    "tweets_df['Coordinates']    = np.array([tweet.coordinates for tweet in info])\n",
    "\n",
    "tweets_df.to_csv(\"shopping.csv\")"
   ]
  },
  {
   "cell_type": "code",
   "execution_count": 39,
   "metadata": {},
   "outputs": [
    {
     "data": {
      "text/html": [
       "<div>\n",
       "<style scoped>\n",
       "    .dataframe tbody tr th:only-of-type {\n",
       "        vertical-align: middle;\n",
       "    }\n",
       "\n",
       "    .dataframe tbody tr th {\n",
       "        vertical-align: top;\n",
       "    }\n",
       "\n",
       "    .dataframe thead th {\n",
       "        text-align: right;\n",
       "    }\n",
       "</style>\n",
       "<table border=\"1\" class=\"dataframe\">\n",
       "  <thead>\n",
       "    <tr style=\"text-align: right;\">\n",
       "      <th></th>\n",
       "      <th>Tweets</th>\n",
       "      <th>len</th>\n",
       "      <th>ID</th>\n",
       "      <th>Date</th>\n",
       "      <th>Source</th>\n",
       "      <th>Likes</th>\n",
       "      <th>RTs</th>\n",
       "      <th>User Location</th>\n",
       "      <th>Geo</th>\n",
       "      <th>Coordinates</th>\n",
       "    </tr>\n",
       "  </thead>\n",
       "  <tbody>\n",
       "  </tbody>\n",
       "</table>\n",
       "</div>"
      ],
      "text/plain": [
       "Empty DataFrame\n",
       "Columns: [Tweets, len, ID, Date, Source, Likes, RTs, User Location, Geo, Coordinates]\n",
       "Index: []"
      ]
     },
     "execution_count": 39,
     "metadata": {},
     "output_type": "execute_result"
    }
   ],
   "source": [
    "tweets_df"
   ]
  },
  {
   "cell_type": "code",
   "execution_count": 18,
   "metadata": {},
   "outputs": [
    {
     "name": "stdout",
     "output_type": "stream",
     "text": [
      "O tweet com mais curtidas é: \n",
      "Não adianta, msm dps de mostrar q os casos de covid triplicaram em SC após a abertura do comércio, continuo recebendo milhares de replies de pessoas dizendo que tem que deixar aberto SIM.  O Brasil é o Titanic. Já batemos no iceberg. Eu tô desistindo.\n",
      "Número de curtidas: 67644\n",
      "\n",
      "\n",
      "O tweet com mais retweet é: \n",
      "Já monitoram seu celular sem sua autorização, fecharam avenidas, botaram 50% dos carros em rodízio, soldaram portas do comércio, prenderam senhoras... Qual o próximo passo dessa dupla? https://t.co/aNEIjoBrEU\n",
      "Número de retweets: 6997\n"
     ]
    }
   ],
   "source": [
    "# Top Searched Tweets\n",
    "fav_max = np.max(tweets_df['Likes'])\n",
    "rt_max  = np.max(tweets_df['RTs'])\n",
    "\n",
    "fav = tweets_df[tweets_df.Likes == fav_max].index[0]\n",
    "rt  = tweets_df[tweets_df.RTs == rt_max].index[0]\n",
    "\n",
    "# Max FAVs:\n",
    "print(\"O tweet com mais curtidas é: \\n{}\".format(tweets_df['Tweets'][fav]))\n",
    "print(\"Número de curtidas: {}\".format(fav_max))\n",
    "print(\"\\n\")\n",
    "# Max RTs:\n",
    "print(\"O tweet com mais retweet é: \\n{}\".format(tweets_df['Tweets'][rt]))\n",
    "print(\"Número de retweets: {}\".format(rt_max))"
   ]
  },
  {
   "cell_type": "code",
   "execution_count": 27,
   "metadata": {},
   "outputs": [],
   "source": [
    "#Source of the Tweets\n",
    "sources = []\n",
    "for source in tweets_df['User Location']:\n",
    "    if source not in sources:\n",
    "        sources.append(source)\n",
    "\n",
    "percent = np.zeros(len(sources))\n",
    "\n",
    "for source in tweets_df['User Location']:\n",
    "    for index in range(len(sources)):\n",
    "        if source == sources[index]:\n",
    "            percent[index] += 1\n",
    "            pass"
   ]
  },
  {
   "cell_type": "code",
   "execution_count": 28,
   "metadata": {},
   "outputs": [
    {
     "data": {
      "image/png": "[encoded data removed]",
      "text/plain": [
       "<Figure size 432x288 with 1 Axes>"
      ]
     },
     "metadata": {
      "needs_background": "light"
     },
     "output_type": "display_data"
    }
   ],
   "source": [
    "newDF = pd.DataFrame({\n",
    " 'source':percent,\n",
    "}, index=sources)\n",
    "\n",
    "sources_sorted = newDF.sort_values('source',ascending=False)\n",
    "ax = sources_sorted.source.plot(kind='barh',color='#002060')\n",
    "ax.get_xaxis().set_major_formatter(plt.FuncFormatter(lambda x, loc: \"{:,}\".format(int(x))))"
   ]
  },
  {
   "cell_type": "code",
   "execution_count": null,
   "metadata": {},
   "outputs": [],
   "source": []
  }
 ],
 "metadata": {
  "kernelspec": {
   "display_name": "Python 3",
   "language": "python",
   "name": "python3"
  },
  "language_info": {
   "codemirror_mode": {
    "name": "ipython",
    "version": 3
   },
   "file_extension": ".py",
   "mimetype": "text/x-python",
   "name": "python",
   "nbconvert_exporter": "python",
   "pygments_lexer": "ipython3",
   "version": "3.7.4"
  }
 },
 "nbformat": 4,
 "nbformat_minor": 2
}
