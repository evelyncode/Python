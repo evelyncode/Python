{
 "cells": [
  {
   "cell_type": "code",
   "execution_count": 23,
   "metadata": {},
   "outputs": [],
   "source": [
    "from textblob import TextBlob as tb\n",
    "import tweepy\n",
    "import numpy as np"
   ]
  },
  {
   "cell_type": "code",
   "execution_count": 24,
   "metadata": {},
   "outputs": [],
   "source": [
    "consumer_key = ''\n",
    "consumer_secret = ''\n",
    "access_token = ''\n",
    "access_token_secret = ''"
   ]
  },
  {
   "cell_type": "code",
   "execution_count": 25,
   "metadata": {},
   "outputs": [],
   "source": [
    "auth = tweepy.OAuthHandler(consumer_key, consumer_secret)\n",
    "auth.set_access_token(access_token, access_token_secret)\n",
    "api = tweepy.API(auth)"
   ]
  },
  {
   "cell_type": "code",
   "execution_count": 26,
   "metadata": {},
   "outputs": [],
   "source": [
    "public_tweets = api.search('comercio local')"
   ]
  },
  {
   "cell_type": "code",
   "execution_count": 27,
   "metadata": {},
   "outputs": [],
   "source": [
    "analysis = None"
   ]
  },
  {
   "cell_type": "code",
   "execution_count": 28,
   "metadata": {},
   "outputs": [
    {
     "name": "stdout",
     "output_type": "stream",
     "text": [
      "RT @extremadura_por: 🎥 Desde el lunes ya están abiertas muchas tiendas y establecimientos que permanecieron cerrados en los peores momentos…\n",
      "0.0\n",
      "Tenemos ganas de las cositas de @carniceriacadiz 🥩, de ir a desayunar ☕️ o a tomar unas tapas a Divinas Tapas o de… https://t.co/rUbbw90E2j\n",
      "0.0\n",
      "\"Necesitamos contratación pública responsable y la colaboración con la banca ética y el apoyo y formación a persona… https://t.co/CiGTJJHODD\n",
      "0.0\n",
      "RT @MarianoFuentesS: La estrategia urbana se basa en tres ejes potentes:\n",
      "\n",
      "✅ Movilidad y Espacio Público \n",
      "✅ Renaturalizacion y mejora de la…\n",
      "0.0\n",
      "RT @AitorSSM: Hacedle caso a Ricardo, que sabe de lo que habla. El comercio online es mucho más que una web, igual que el comercio físico e…\n",
      "0.0\n",
      "RT @realauri1: Lo que tenéis que hacer es apoyar el comercio local que son los que están pasando hambre:)\n",
      "0.25\n",
      "Dolz anima a los conquenses a comprar en el comercio local, tomando las medidas de seguridad oportunas https://t.co/pHtnnFKzjy\n",
      "0.0\n",
      "RT @ALCBDS_Ayto: #Alcobendas El COMERCIO TRADICIONAL PREPARADO PARA LA VUELTA. El Ayuntamiento pone en marcha la fase 1 del Plan #ReActiva…\n",
      "0.0\n",
      "Es dinero que se genera aquí y crea puestos de trabajo. Ayudamos a muchos vecinos, conocidos y familias cercanas.\n",
      "R… https://t.co/PooFx6nCS6\n",
      "0.0\n",
      "RT @UcogaCBChantada: Queremos amosar o noso apoio o comércio local é o sector hosteleiro de Chantada!! Hoxe mais cá nunca merca na tua vila…\n",
      "0.0\n",
      "#ComercioLocal Usemos el comercio local. Revitalicemos nuestro pueblo. #sanse #Local https://t.co/RUDDCFaLer\n",
      "0.0\n",
      "RT @MarianoFuentesS: La estrategia urbana se basa en tres ejes potentes:\n",
      "\n",
      "✅ Movilidad y Espacio Público \n",
      "✅ Renaturalizacion y mejora de la…\n",
      "0.0\n",
      "El 14 de mayo en el calendario cívico viene destacado como el Dia Internacional del Comercio Justo. Por este motivo… https://t.co/bwiOvcFk3i\n",
      "0.0\n",
      "RT @Accem_ong: La Renta Mínima no sólo beneficiará a quien la reciba, sino también a los lugares donde se invierta ese dinero, como el come…\n",
      "0.0\n",
      "RT @paistransversal: \"El mercado se llena de barrio\" es un proyecto piloto para la reactivación del @MdelasDelicias  en #Valladolid.\n",
      "\n",
      "Busca…\n",
      "0.0\n"
     ]
    }
   ],
   "source": [
    "tweets = [] # Lista vazia para armazenar scores\n",
    "for tweet in public_tweets:\n",
    "    print(tweet.text)\n",
    "    analysis = tb(tweet.text)\n",
    "    polarity = analysis.sentiment.polarity\n",
    "    tweets.append(polarity)\n",
    "    print(polarity)"
   ]
  },
  {
   "cell_type": "code",
   "execution_count": 29,
   "metadata": {},
   "outputs": [
    {
     "name": "stdout",
     "output_type": "stream",
     "text": [
      "MÉDIA DE SENTIMENTO: 0.016666666666666666\n"
     ]
    }
   ],
   "source": [
    "print('MÉDIA DE SENTIMENTO: ' + str(np.mean(tweets)))"
   ]
  },
  {
   "cell_type": "code",
   "execution_count": null,
   "metadata": {},
   "outputs": [],
   "source": []
  }
 ],
 "metadata": {
  "kernelspec": {
   "display_name": "Python 3",
   "language": "python",
   "name": "python3"
  },
  "language_info": {
   "codemirror_mode": {
    "name": "ipython",
    "version": 3
   },
   "file_extension": ".py",
   "mimetype": "text/x-python",
   "name": "python",
   "nbconvert_exporter": "python",
   "pygments_lexer": "ipython3",
   "version": "3.7.4"
  }
 },
 "nbformat": 4,
 "nbformat_minor": 2
}
